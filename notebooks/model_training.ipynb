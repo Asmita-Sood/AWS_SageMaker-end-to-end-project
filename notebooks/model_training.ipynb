{
 "cells": [
  {
   "cell_type": "markdown",
   "metadata": {},
   "source": [
    "` 1.AWS Sagemaker`\n",
    "1. Data Preprocessing\n",
    "2. Model Training\n",
    "3. Hyperparameter Tuning\n",
    "4. Model Evaluation\n",
    "\n",
    "`2. Create web application using streamlit`\n",
    "\n",
    "`3. Deploy web application over Streamlit Cloud`"
   ]
  },
  {
   "cell_type": "code",
   "execution_count": null,
   "metadata": {},
   "outputs": [],
   "source": []
  }
 ],
 "metadata": {
  "kernelspec": {
   "display_name": "Python(aws2)",
   "language": "python",
   "name": "aws2"
  },
  "language_info": {
   "codemirror_mode": {
    "name": "ipython",
    "version": 3
   },
   "file_extension": ".py",
   "mimetype": "text/x-python",
   "name": "python",
   "nbconvert_exporter": "python",
   "pygments_lexer": "ipython3",
   "version": "3.12.4"
  }
 },
 "nbformat": 4,
 "nbformat_minor": 4
}
